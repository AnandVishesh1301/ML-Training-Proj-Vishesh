{
 "cells": [
  {
   "cell_type": "markdown",
   "metadata": {},
   "source": [
    "Packages Imports"
   ]
  },
  {
   "cell_type": "code",
   "execution_count": 20,
   "metadata": {},
   "outputs": [],
   "source": [
    "from PIL import Image\n",
    "from rembg import remove\n",
    "import numpy as np"
   ]
  },
  {
   "cell_type": "code",
   "execution_count": 5,
   "metadata": {},
   "outputs": [],
   "source": [
    "with Image.open('synthetic_object_detection_dataset/Masks/Masks/0a0ee689-08ac-4394-9b0e-73e8158200fb_002311_mask_0002.png') as img:\n",
    "    img.show()\n"
   ]
  },
  {
   "cell_type": "markdown",
   "metadata": {},
   "source": [
    "Function to remove the Image Background"
   ]
  },
  {
   "cell_type": "code",
   "execution_count": 11,
   "metadata": {},
   "outputs": [
    {
     "name": "stderr",
     "output_type": "stream",
     "text": [
      "Downloading data from 'https://github.com/danielgatis/rembg/releases/download/v0.0.0/u2net.onnx' to file 'C:\\Users\\vanand\\.u2net\\u2net.onnx'.\n",
      "100%|###############################################| 176M/176M [00:00<?, ?B/s]\n"
     ]
    }
   ],
   "source": [
    "def remove_bg(input_path, output_path):\n",
    "    with open(input_path, 'rb') as i:\n",
    "        with open(output_path, 'wb') as o:\n",
    "            input = i.read()\n",
    "            output = remove(input)\n",
    "            o.write(output)\n",
    "            \n",
    "remove_bg('synthetic_object_detection_dataset/Masks/Masks/0a0ee689-08ac-4394-9b0e-73e8158200fb_002311_mask_0002.png','removedbg.png' )"
   ]
  },
  {
   "cell_type": "markdown",
   "metadata": {},
   "source": [
    "Function to remove the Black Bg from the Mask Image"
   ]
  },
  {
   "cell_type": "code",
   "execution_count": 41,
   "metadata": {},
   "outputs": [
    {
     "name": "stdout",
     "output_type": "stream",
     "text": [
      "[(7506, (255, 119, 0)), (4838, (187, 255, 0)), (7223, (255, 220, 0)), (9203, (84, 255, 0)), (9150, (0, 255, 16)), (5568, (255, 16, 0)), (1005088, (0, 0, 0))]\n",
      "[(   7506, [255, 119,   0]) (   4838, [187, 255,   0])\n",
      " (   7223, [255, 220,   0]) (   9203, [ 84, 255,   0])\n",
      " (   9150, [  0, 255,  16]) (   5568, [255,  16,   0])\n",
      " (1005088, [  0,   0,   0])]\n",
      "[(1005088, [0, 0, 0])]\n",
      "[255 119   0]\n"
     ]
    }
   ],
   "source": [
    "test_img = Image.open('synthetic_object_detection_dataset/Masks/Masks/0a0ee689-08ac-4394-9b0e-73e8158200fb_002311_mask_0002.png')\n",
    "test_img.show()\n",
    "rgb_tuple= Image.Image.getcolors(test_img)\n",
    "print(rgb_tuple)\n",
    "dt = np.dtype([('count', np.int32), ('color', np.int32, (3,))])\n",
    "\n",
    "# Convert the list of tuples to a numpy array\n",
    "rgb_array = np.array([(count, np.array(color)) for count, color in rgb_tuple], dtype=dt)\n",
    "print(rgb_array)\n",
    "\n",
    "# Removing the Black BG(0,0,0)\n",
    "black_color= [black for black in rgb_array if np.array_equal(black['color'], [0, 0, 0])]\n",
    "print(black_color)\n",
    "\n",
    "no_bg_array=np.delete(rgb_array, np.where(rgb_array==black_color))\n",
    "print(no_bg_array[0][1])\n",
    "\n",
    "# # Create a blank image with the same size as the original\n",
    "# no_bg_img = Image.new(\"RGB\", test_img.size)\n",
    "\n",
    "# # Convert the structured array back to an image format\n",
    "# pixels = np.array([entry['color'] for entry in no_bg_array])\n",
    "# pixels = pixels.reshape(test_img.size[1], test_img.size[0], 3)  # Reshape to the original image size\n",
    "\n",
    "# # Create an image from the pixels\n",
    "# new_img = Image.fromarray(pixels.astype('uint8'), 'RGB')\n",
    "# new_img.save('removedblackbg.png')\n"
   ]
  },
  {
   "cell_type": "markdown",
   "metadata": {},
   "source": []
  },
  {
   "cell_type": "markdown",
   "metadata": {},
   "source": [
    "Store all the pixels' coordinates in an array for a particular mask color"
   ]
  },
  {
   "cell_type": "code",
   "execution_count": null,
   "metadata": {},
   "outputs": [],
   "source": [
    "## Code to browse the Mask Image pixel by pixel \n",
    "## and then store all those pixels along with their x and y coordinates in a numpy array\n",
    "## Test code to only crop out the Orange Masked Image RBG Value: 255,119,0\n",
    "# Format of the array for that color: [[Color Code],[[x1,y1],[x2,y2],[x3,y3]...]]\n",
    "dt2= np.dtype([('color',np.int32,(3,)), ('cooordinates',np.int32,(2,))])\n",
    "\n",
    "\n",
    "\n",
    "\n"
   ]
  }
 ],
 "metadata": {
  "kernelspec": {
   "display_name": "Python 3",
   "language": "python",
   "name": "python3"
  },
  "language_info": {
   "codemirror_mode": {
    "name": "ipython",
    "version": 3
   },
   "file_extension": ".py",
   "mimetype": "text/x-python",
   "name": "python",
   "nbconvert_exporter": "python",
   "pygments_lexer": "ipython3",
   "version": "3.11.7"
  }
 },
 "nbformat": 4,
 "nbformat_minor": 2
}
